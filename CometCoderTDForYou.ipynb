{
 "cells": [
  {
   "cell_type": "markdown",
   "metadata": {
    "id": "ty3i03OmMTcq"
   },
   "source": [
    "# TD For-You Page\n",
    "\n",
    "TD wants the hackathon experience to be top-notch for everyone. To assist in this, we want to provide a **For-You** page to our future applicants on our website tamudatathon.com. Can you use the TAMU Datathon data to make this happen?\n",
    "\n",
    "**Ideas:**\n",
    "- Visualization of Achievements\n",
    "- Supervised Learning for Recommending Workshops\n",
    "- Clustering for Team Building\n",
    "- Natural Language Processing for Workshops Search Engine\n",
    "\n",
    "**Datasets:**\n",
    "\n",
    "We provide four datasets for this challenge. You are free to find your own as well.\n",
    "1. TD 2020 Applicant Data\n",
    "2. Bootcamps\n",
    "3. Workshop Queries\n",
    "4. Workshops\n",
    "\n",
    "\n",
    "The details for these datasets are here: www.datalogz.io. \n",
    "1. Make an account, and for company, enter 'TAMU Datathon'\n",
    "2. On the homepage, click 'Enter a Code' and enter SZMX5CNOZU\n",
    "3. You should have access to the relevant tables on the left hand bar\n",
    "4. Choose the desired table. Click \"Definitions\" to see column definitions\n"
   ]
  },
  {
   "cell_type": "code",
   "execution_count": 241,
   "metadata": {},
   "outputs": [
    {
     "name": "stdout",
     "output_type": "stream",
     "text": [
      "Requirement already satisfied: numpy in c:\\users\\nikita\\appdata\\local\\programs\\python\\python38\\lib\\site-packages (1.19.2)\n"
     ]
    },
    {
     "name": "stderr",
     "output_type": "stream",
     "text": [
      "WARNING: You are using pip version 19.2.3, however version 20.2.4 is available.\n",
      "You should consider upgrading via the 'python -m pip install --upgrade pip' command.\n"
     ]
    },
    {
     "name": "stdout",
     "output_type": "stream",
     "text": [
      "Requirement already satisfied: pandas in c:\\users\\nikita\\appdata\\local\\programs\\python\\python38\\lib\\site-packages (1.1.3)"
     ]
    },
    {
     "name": "stderr",
     "output_type": "stream",
     "text": [
      "WARNING: You are using pip version 19.2.3, however version 20.2.4 is available.\n",
      "You should consider upgrading via the 'python -m pip install --upgrade pip' command.\n"
     ]
    },
    {
     "name": "stdout",
     "output_type": "stream",
     "text": [
      "\n",
      "Requirement already satisfied: numpy>=1.15.4 in c:\\users\\nikita\\appdata\\local\\programs\\python\\python38\\lib\\site-packages (from pandas) (1.19.2)\n",
      "Requirement already satisfied: pytz>=2017.2 in c:\\users\\nikita\\appdata\\local\\programs\\python\\python38\\lib\\site-packages (from pandas) (2020.1)\n",
      "Requirement already satisfied: python-dateutil>=2.7.3 in c:\\users\\nikita\\appdata\\local\\programs\\python\\python38\\lib\\site-packages (from pandas) (2.8.1)\n",
      "Requirement already satisfied: six>=1.5 in c:\\users\\nikita\\appdata\\local\\programs\\python\\python38\\lib\\site-packages (from python-dateutil>=2.7.3->pandas) (1.15.0)\n",
      "Requirement already satisfied: scikit-learn in c:\\users\\nikita\\appdata\\local\\programs\\python\\python38\\lib\\site-packages (0.23.2)\n",
      "Requirement already satisfied: joblib>=0.11 in c:\\users\\nikita\\appdata\\local\\programs\\python\\python38\\lib\\site-packages (from scikit-learn) (0.17.0)\n",
      "Requirement already satisfied: scipy>=0.19.1 in c:\\users\\nikita\\appdata\\local\\programs\\python\\python38\\lib\\site-packages (from scikit-learn) (1.5.3)\n",
      "Requirement already satisfied: threadpoolctl>=2.0.0 in c:\\users\\nikita\\appdata\\local\\programs\\python\\python38\\lib\\site-packages (from scikit-learn) (2.1.0)\n",
      "Requirement already satisfied: numpy>=1.13.3 in c:\\users\\nikita\\appdata\\local\\programs\\python\\python38\\lib\\site-packages (from scikit-learn) (1.19.2)\n"
     ]
    },
    {
     "name": "stderr",
     "output_type": "stream",
     "text": [
      "WARNING: You are using pip version 19.2.3, however version 20.2.4 is available.\n",
      "You should consider upgrading via the 'python -m pip install --upgrade pip' command.\n"
     ]
    },
    {
     "name": "stdout",
     "output_type": "stream",
     "text": [
      "Requirement already satisfied: matplotlib in c:\\users\\nikita\\appdata\\local\\programs\\python\\python38\\lib\\site-packages (3.3.2)\n",
      "Requirement already satisfied: numpy>=1.15 in c:\\users\\nikita\\appdata\\local\\programs\\python\\python38\\lib\\site-packages (from matplotlib) (1.19.2)\n",
      "Requirement already satisfied: kiwisolver>=1.0.1 in c:\\users\\nikita\\appdata\\local\\programs\\python\\python38\\lib\\site-packages (from matplotlib) (1.2.0)\n",
      "Requirement already satisfied: pyparsing!=2.0.4,!=2.1.2,!=2.1.6,>=2.0.3 in c:\\users\\nikita\\appdata\\local\\programs\\python\\python38\\lib\\site-packages (from matplotlib) (2.4.7)\n",
      "Requirement already satisfied: python-dateutil>=2.1 in c:\\users\\nikita\\appdata\\local\\programs\\python\\python38\\lib\\site-packages (from matplotlib) (2.8.1)\n",
      "Requirement already satisfied: cycler>=0.10 in c:\\users\\nikita\\appdata\\local\\programs\\python\\python38\\lib\\site-packages (from matplotlib) (0.10.0)\n",
      "Requirement already satisfied: certifi>=2020.06.20 in c:\\users\\nikita\\appdata\\local\\programs\\python\\python38\\lib\\site-packages (from matplotlib) (2020.6.20)\n",
      "Requirement already satisfied: pillow>=6.2.0 in c:\\users\\nikita\\appdata\\local\\programs\\python\\python38\\lib\\site-packages (from matplotlib) (8.0.0)\n",
      "Requirement already satisfied: six>=1.5 in c:\\users\\nikita\\appdata\\local\\programs\\python\\python38\\lib\\site-packages (from python-dateutil>=2.1->matplotlib) (1.15.0)\n"
     ]
    },
    {
     "name": "stderr",
     "output_type": "stream",
     "text": [
      "WARNING: You are using pip version 19.2.3, however version 20.2.4 is available.\n",
      "You should consider upgrading via the 'python -m pip install --upgrade pip' command.\n"
     ]
    },
    {
     "name": "stdout",
     "output_type": "stream",
     "text": [
      "Requirement already satisfied: plotly in c:\\users\\nikita\\appdata\\local\\programs\\python\\python38\\lib\\site-packages (4.11.0)\n",
      "Requirement already satisfied: retrying>=1.3.3 in c:\\users\\nikita\\appdata\\local\\programs\\python\\python38\\lib\\site-packages (from plotly) (1.3.3)\n",
      "Requirement already satisfied: six in c:\\users\\nikita\\appdata\\local\\programs\\python\\python38\\lib\\site-packages (from plotly) (1.15.0)\n"
     ]
    },
    {
     "name": "stderr",
     "output_type": "stream",
     "text": [
      "WARNING: You are using pip version 19.2.3, however version 20.2.4 is available.\n",
      "You should consider upgrading via the 'python -m pip install --upgrade pip' command.\n"
     ]
    },
    {
     "name": "stdout",
     "output_type": "stream",
     "text": [
      "Requirement already satisfied: varname in c:\\users\\nikita\\appdata\\local\\programs\\python\\python38\\lib\\site-packages (0.4.0)\n",
      "Requirement already satisfied: executing in c:\\users\\nikita\\appdata\\local\\programs\\python\\python38\\lib\\site-packages (from varname) (0.5.3)\n"
     ]
    },
    {
     "name": "stderr",
     "output_type": "stream",
     "text": [
      "WARNING: You are using pip version 19.2.3, however version 20.2.4 is available.\n",
      "You should consider upgrading via the 'python -m pip install --upgrade pip' command.\n"
     ]
    }
   ],
   "source": [
    "import sys\n",
    "!{sys.executable} -m pip install numpy\n",
    "!{sys.executable} -m pip install pandas\n",
    "!{sys.executable} -m pip install scikit-learn\n",
    "!{sys.executable} -m pip install matplotlib\n",
    "!{sys.executable} -m pip install plotly\n",
    "!{sys.executable} -m pip install varname"
   ]
  },
  {
   "cell_type": "code",
   "execution_count": 242,
   "metadata": {
    "id": "1fnR1Gf-VtD3"
   },
   "outputs": [],
   "source": [
    "import pandas as pd\n",
    "apps = pd.read_csv('https://drive.google.com/uc?id=1mPK8_AasPMdqy3D9D0kxjjKcIXmhhcQo').set_index('userid') # read 'TD 2020 Applicant' data"
   ]
  },
  {
   "cell_type": "code",
   "execution_count": 243,
   "metadata": {
    "colab": {
     "base_uri": "https://localhost:8080/",
     "height": 612
    },
    "id": "lMVY_esyV5I_",
    "outputId": "45d1b66e-640a-4196-cca3-4a81fe156400"
   },
   "outputs": [
    {
     "data": {
      "text/html": [
       "<div>\n",
       "<style scoped>\n",
       "    .dataframe tbody tr th:only-of-type {\n",
       "        vertical-align: middle;\n",
       "    }\n",
       "\n",
       "    .dataframe tbody tr th {\n",
       "        vertical-align: top;\n",
       "    }\n",
       "\n",
       "    .dataframe thead th {\n",
       "        text-align: right;\n",
       "    }\n",
       "</style>\n",
       "<table border=\"1\" class=\"dataframe\">\n",
       "  <thead>\n",
       "    <tr style=\"text-align: right;\">\n",
       "      <th></th>\n",
       "      <th>school</th>\n",
       "      <th>other_school</th>\n",
       "      <th>majors</th>\n",
       "      <th>minors</th>\n",
       "      <th>age_bin</th>\n",
       "      <th>classification</th>\n",
       "      <th>first_generation</th>\n",
       "      <th>datascience_experience</th>\n",
       "      <th>technology_experience</th>\n",
       "      <th>num_hackathons_attended</th>\n",
       "      <th>workshop_suggestions</th>\n",
       "      <th>relavent_industries</th>\n",
       "    </tr>\n",
       "    <tr>\n",
       "      <th>userid</th>\n",
       "      <th></th>\n",
       "      <th></th>\n",
       "      <th></th>\n",
       "      <th></th>\n",
       "      <th></th>\n",
       "      <th></th>\n",
       "      <th></th>\n",
       "      <th></th>\n",
       "      <th></th>\n",
       "      <th></th>\n",
       "      <th></th>\n",
       "      <th></th>\n",
       "    </tr>\n",
       "  </thead>\n",
       "  <tbody>\n",
       "    <tr>\n",
       "      <th>95030aef3e970680d882f1527f549d9e</th>\n",
       "      <td>Texas A&amp;M University</td>\n",
       "      <td>NaN</td>\n",
       "      <td>['Landscape Architecture &amp; Urban Planning', 'P...</td>\n",
       "      <td>['Soil and Crop Sciences']</td>\n",
       "      <td>(25, 30]</td>\n",
       "      <td>Ma</td>\n",
       "      <td>False</td>\n",
       "      <td>2</td>\n",
       "      <td>['Excel', 'Python', 'Tableau', 'Pandas']</td>\n",
       "      <td>0</td>\n",
       "      <td>Python Fundamentals (Functions/Loops)\\nVisuali...</td>\n",
       "      <td>['consulting', 'public_policy', 'other']</td>\n",
       "    </tr>\n",
       "    <tr>\n",
       "      <th>68ad76832a913de0d62df103b3d5b807</th>\n",
       "      <td>Texas A&amp;M University</td>\n",
       "      <td>NaN</td>\n",
       "      <td>['Electrical Engineering', 'Material Science',...</td>\n",
       "      <td>[]</td>\n",
       "      <td>(18, 20]</td>\n",
       "      <td>Jr</td>\n",
       "      <td>True</td>\n",
       "      <td>2</td>\n",
       "      <td>['Excel', 'Python', 'Pandas', 'NumPy', 'MATLAB']</td>\n",
       "      <td>0</td>\n",
       "      <td>Training videos on different levels of machine...</td>\n",
       "      <td>['technology', 'education', 'healthcare', 'ins...</td>\n",
       "    </tr>\n",
       "  </tbody>\n",
       "</table>\n",
       "</div>"
      ],
      "text/plain": [
       "                                                school other_school  \\\n",
       "userid                                                                \n",
       "95030aef3e970680d882f1527f549d9e  Texas A&M University          NaN   \n",
       "68ad76832a913de0d62df103b3d5b807  Texas A&M University          NaN   \n",
       "\n",
       "                                                                             majors  \\\n",
       "userid                                                                                \n",
       "95030aef3e970680d882f1527f549d9e  ['Landscape Architecture & Urban Planning', 'P...   \n",
       "68ad76832a913de0d62df103b3d5b807  ['Electrical Engineering', 'Material Science',...   \n",
       "\n",
       "                                                      minors   age_bin  \\\n",
       "userid                                                                   \n",
       "95030aef3e970680d882f1527f549d9e  ['Soil and Crop Sciences']  (25, 30]   \n",
       "68ad76832a913de0d62df103b3d5b807                          []  (18, 20]   \n",
       "\n",
       "                                 classification  first_generation  \\\n",
       "userid                                                              \n",
       "95030aef3e970680d882f1527f549d9e             Ma             False   \n",
       "68ad76832a913de0d62df103b3d5b807             Jr              True   \n",
       "\n",
       "                                  datascience_experience  \\\n",
       "userid                                                     \n",
       "95030aef3e970680d882f1527f549d9e                       2   \n",
       "68ad76832a913de0d62df103b3d5b807                       2   \n",
       "\n",
       "                                                             technology_experience  \\\n",
       "userid                                                                               \n",
       "95030aef3e970680d882f1527f549d9e          ['Excel', 'Python', 'Tableau', 'Pandas']   \n",
       "68ad76832a913de0d62df103b3d5b807  ['Excel', 'Python', 'Pandas', 'NumPy', 'MATLAB']   \n",
       "\n",
       "                                 num_hackathons_attended  \\\n",
       "userid                                                     \n",
       "95030aef3e970680d882f1527f549d9e                       0   \n",
       "68ad76832a913de0d62df103b3d5b807                       0   \n",
       "\n",
       "                                                               workshop_suggestions  \\\n",
       "userid                                                                                \n",
       "95030aef3e970680d882f1527f549d9e  Python Fundamentals (Functions/Loops)\\nVisuali...   \n",
       "68ad76832a913de0d62df103b3d5b807  Training videos on different levels of machine...   \n",
       "\n",
       "                                                                relavent_industries  \n",
       "userid                                                                               \n",
       "95030aef3e970680d882f1527f549d9e           ['consulting', 'public_policy', 'other']  \n",
       "68ad76832a913de0d62df103b3d5b807  ['technology', 'education', 'healthcare', 'ins...  "
      ]
     },
     "metadata": {},
     "output_type": "display_data"
    },
    {
     "data": {
      "text/plain": [
       "Index(['school', 'other_school', 'majors', 'minors', 'age_bin',\n",
       "       'classification', 'first_generation', 'datascience_experience',\n",
       "       'technology_experience', 'num_hackathons_attended',\n",
       "       'workshop_suggestions', 'relavent_industries'],\n",
       "      dtype='object')"
      ]
     },
     "metadata": {},
     "output_type": "display_data"
    },
    {
     "name": "stdout",
     "output_type": "stream",
     "text": [
      "school                     object\n",
      "other_school               object\n",
      "majors                     object\n",
      "minors                     object\n",
      "age_bin                    object\n",
      "classification             object\n",
      "first_generation             bool\n",
      "datascience_experience      int64\n",
      "technology_experience      object\n",
      "num_hackathons_attended    object\n",
      "workshop_suggestions       object\n",
      "relavent_industries        object\n",
      "dtype: object\n"
     ]
    }
   ],
   "source": [
    "display(apps.head(2))\n",
    "display(apps.columns)\n",
    "print(apps.dtypes)"
   ]
  },
  {
   "cell_type": "code",
   "execution_count": 244,
   "metadata": {
    "id": "C9HHxJRF1o1x"
   },
   "outputs": [],
   "source": [
    "bootcamp = pd.read_csv('https://drive.google.com/uc?id=1sovKLesEqPbkUte_ysRP9mGQ1gFCO2ME').set_index('userid') # read 'Bootcamp' data"
   ]
  },
  {
   "cell_type": "code",
   "execution_count": 245,
   "metadata": {
    "colab": {
     "base_uri": "https://localhost:8080/",
     "height": 143
    },
    "id": "Nr2Ud0IM0cSV",
    "outputId": "fb368655-89fa-408c-92f7-3c8f3672a754"
   },
   "outputs": [
    {
     "data": {
      "text/html": [
       "<div>\n",
       "<style scoped>\n",
       "    .dataframe tbody tr th:only-of-type {\n",
       "        vertical-align: middle;\n",
       "    }\n",
       "\n",
       "    .dataframe tbody tr th {\n",
       "        vertical-align: top;\n",
       "    }\n",
       "\n",
       "    .dataframe thead th {\n",
       "        text-align: right;\n",
       "    }\n",
       "</style>\n",
       "<table border=\"1\" class=\"dataframe\">\n",
       "  <thead>\n",
       "    <tr style=\"text-align: right;\">\n",
       "      <th></th>\n",
       "      <th>workshop</th>\n",
       "    </tr>\n",
       "    <tr>\n",
       "      <th>userid</th>\n",
       "      <th></th>\n",
       "    </tr>\n",
       "  </thead>\n",
       "  <tbody>\n",
       "    <tr>\n",
       "      <th>f48d02fd46d249ab2c37f925f405139f</th>\n",
       "      <td>Data Science: Start Here</td>\n",
       "    </tr>\n",
       "    <tr>\n",
       "      <th>f48d02fd46d249ab2c37f925f405139f</th>\n",
       "      <td>Getting a Job in Data Science</td>\n",
       "    </tr>\n",
       "  </tbody>\n",
       "</table>\n",
       "</div>"
      ],
      "text/plain": [
       "                                                       workshop\n",
       "userid                                                         \n",
       "f48d02fd46d249ab2c37f925f405139f       Data Science: Start Here\n",
       "f48d02fd46d249ab2c37f925f405139f  Getting a Job in Data Science"
      ]
     },
     "execution_count": 245,
     "metadata": {},
     "output_type": "execute_result"
    }
   ],
   "source": [
    "bootcamp.head(2)"
   ]
  },
  {
   "cell_type": "code",
   "execution_count": 246,
   "metadata": {
    "colab": {
     "base_uri": "https://localhost:8080/",
     "height": 108
    },
    "id": "w1ruDxut5eFj",
    "outputId": "a1b4171a-5d09-480e-aec0-e18f6c0469ec"
   },
   "outputs": [
    {
     "data": {
      "text/plain": [
       "Index(['workshop', 'school', 'other_school', 'majors', 'minors', 'age_bin',\n",
       "       'classification', 'first_generation', 'datascience_experience',\n",
       "       'technology_experience', 'num_hackathons_attended',\n",
       "       'workshop_suggestions', 'relavent_industries'],\n",
       "      dtype='object')"
      ]
     },
     "execution_count": 246,
     "metadata": {},
     "output_type": "execute_result"
    }
   ],
   "source": [
    "joined = bootcamp.join(apps)\n",
    "joined.columns"
   ]
  },
  {
   "cell_type": "markdown",
   "metadata": {
    "id": "YrcbBKotfUKn"
   },
   "source": [
    "# Visualization for Sponsorships?\n",
    "Awesome sponsors make an awesome TD. Sponsors want to know why they should sponsor datathon. Can you answer this for them using data viz and EDA?"
   ]
  },
  {
   "cell_type": "code",
   "execution_count": 247,
   "metadata": {
    "colab": {
     "base_uri": "https://localhost:8080/",
     "height": 420
    },
    "id": "MGd6GR2TfZZo",
    "outputId": "552846ec-9fc9-485e-f607-8d446eec7dd1"
   },
   "outputs": [
    {
     "data": {
      "text/plain": [
       "Text(0.5, 1.0, 'Top 10 Majors')"
      ]
     },
     "execution_count": 247,
     "metadata": {},
     "output_type": "execute_result"
    },
    {
     "data": {
      "image/png": "[encoded data removed]",
      "text/plain": [
       "<Figure size 1008x720 with 2 Axes>"
      ]
     },
     "metadata": {},
     "output_type": "display_data"
    }
   ],
   "source": [
    "import matplotlib.pyplot as plt\n",
    "\n",
    "fig, (ax1, ax2) = plt.subplots(1, 2, figsize=(14, 10))\n",
    "apps.relavent_industries.apply(eval).explode().value_counts().plot.pie(ax=ax1)\n",
    "ax1.set_title('Applicant Interest in Industries')\n",
    "apps.majors.apply(eval).explode().value_counts()[:10].plot.pie(ax=ax2)\n",
    "ax2.set_title('Top 10 Majors')"
   ]
  },
  {
   "cell_type": "code",
   "execution_count": 248,
   "metadata": {
    "colab": {
     "base_uri": "https://localhost:8080/",
     "height": 187
    },
    "id": "I0wof6u181wb",
    "outputId": "ab5b5754-8562-44a7-c92f-dc4ade4dd76e"
   },
   "outputs": [
    {
     "name": "stdout",
     "output_type": "stream",
     "text": [
      "Predicting 8 workshops\n"
     ]
    },
    {
     "data": {
      "text/plain": [
       "Data Science: Start Here                                 0.23\n",
       "Getting a Job in Data Science                            0.22\n",
       "Natural Language Processing                              0.12\n",
       "Hacking Unsupervised Clustering Algorithms               0.10\n",
       "Machine Learning: Start Here                             0.10\n",
       "Convolutional Neural Networks & Semantic Segmentation    0.09\n",
       "Model Interpretability                                   0.07\n",
       "Story Telling With Data                                  0.07\n",
       "Name: workshop, dtype: float64"
      ]
     },
     "execution_count": 248,
     "metadata": {},
     "output_type": "execute_result"
    }
   ],
   "source": [
    "print(f'Predicting {joined.workshop.nunique()} workshops')\n",
    "joined.workshop.value_counts(normalize=True).round(2)"
   ]
  },
  {
   "cell_type": "markdown",
   "metadata": {
    "id": "PNqxjNvDfKxs"
   },
   "source": [
    "# Supervised Learning for Recommending Workshops?\n",
    "- Netflix recommends movies, Amazon recommends products, why can't TD recommend workshops to participants?"
   ]
  },
  {
   "cell_type": "code",
   "execution_count": 249,
   "metadata": {
    "id": "V8tzkpkF8DiW"
   },
   "outputs": [],
   "source": [
    "target_name = 'workshop'\n",
    "feature_names = ['datascience_experience', 'age_bin', 'classification', 'num_hackathons_attended']\n",
    "target = joined[target_name]\n",
    "features = joined[feature_names]\n"
   ]
  },
  {
   "cell_type": "code",
   "execution_count": 250,
   "metadata": {
    "colab": {
     "base_uri": "https://localhost:8080/",
     "height": 930
    },
    "id": "SXOMdlmcFdQ6",
    "outputId": "23e6a5b4-5e83-4cf0-aa49-09dd3476811e"
   },
   "outputs": [
    {
     "data": {
      "text/html": [
       "<div>\n",
       "<style scoped>\n",
       "    .dataframe tbody tr th:only-of-type {\n",
       "        vertical-align: middle;\n",
       "    }\n",
       "\n",
       "    .dataframe tbody tr th {\n",
       "        vertical-align: top;\n",
       "    }\n",
       "\n",
       "    .dataframe thead th {\n",
       "        text-align: right;\n",
       "    }\n",
       "</style>\n",
       "<table border=\"1\" class=\"dataframe\">\n",
       "  <thead>\n",
       "    <tr style=\"text-align: right;\">\n",
       "      <th></th>\n",
       "      <th>datascience_experience</th>\n",
       "      <th>age_bin</th>\n",
       "      <th>classification</th>\n",
       "      <th>num_hackathons_attended</th>\n",
       "    </tr>\n",
       "    <tr>\n",
       "      <th>userid</th>\n",
       "      <th></th>\n",
       "      <th></th>\n",
       "      <th></th>\n",
       "      <th></th>\n",
       "    </tr>\n",
       "  </thead>\n",
       "  <tbody>\n",
       "    <tr>\n",
       "      <th>002314e62544dcb65e08d3483c4ffa75</th>\n",
       "      <td>1</td>\n",
       "      <td>(18, 20]</td>\n",
       "      <td>Jr</td>\n",
       "      <td>1-3</td>\n",
       "    </tr>\n",
       "    <tr>\n",
       "      <th>011c08999895a8a06f6e7f0e23b066b9</th>\n",
       "      <td>4</td>\n",
       "      <td>(30, 50]</td>\n",
       "      <td>Jr</td>\n",
       "      <td>0</td>\n",
       "    </tr>\n",
       "    <tr>\n",
       "      <th>011c08999895a8a06f6e7f0e23b066b9</th>\n",
       "      <td>4</td>\n",
       "      <td>(30, 50]</td>\n",
       "      <td>Jr</td>\n",
       "      <td>0</td>\n",
       "    </tr>\n",
       "    <tr>\n",
       "      <th>011c08999895a8a06f6e7f0e23b066b9</th>\n",
       "      <td>4</td>\n",
       "      <td>(30, 50]</td>\n",
       "      <td>Jr</td>\n",
       "      <td>0</td>\n",
       "    </tr>\n",
       "    <tr>\n",
       "      <th>011c08999895a8a06f6e7f0e23b066b9</th>\n",
       "      <td>4</td>\n",
       "      <td>(30, 50]</td>\n",
       "      <td>Jr</td>\n",
       "      <td>0</td>\n",
       "    </tr>\n",
       "  </tbody>\n",
       "</table>\n",
       "</div>"
      ],
      "text/plain": [
       "                                  datascience_experience   age_bin  \\\n",
       "userid                                                               \n",
       "002314e62544dcb65e08d3483c4ffa75                       1  (18, 20]   \n",
       "011c08999895a8a06f6e7f0e23b066b9                       4  (30, 50]   \n",
       "011c08999895a8a06f6e7f0e23b066b9                       4  (30, 50]   \n",
       "011c08999895a8a06f6e7f0e23b066b9                       4  (30, 50]   \n",
       "011c08999895a8a06f6e7f0e23b066b9                       4  (30, 50]   \n",
       "\n",
       "                                 classification num_hackathons_attended  \n",
       "userid                                                                   \n",
       "002314e62544dcb65e08d3483c4ffa75             Jr                     1-3  \n",
       "011c08999895a8a06f6e7f0e23b066b9             Jr                       0  \n",
       "011c08999895a8a06f6e7f0e23b066b9             Jr                       0  \n",
       "011c08999895a8a06f6e7f0e23b066b9             Jr                       0  \n",
       "011c08999895a8a06f6e7f0e23b066b9             Jr                       0  "
      ]
     },
     "metadata": {},
     "output_type": "display_data"
    },
    {
     "name": "stdout",
     "output_type": "stream",
     "text": [
      "(18, 20]    68\n",
      "(25, 30]    42\n",
      "(22, 25]    34\n",
      "(20, 22]    29\n",
      "(30, 50]    22\n",
      "(15, 18]    19\n",
      "Name: age_bin, dtype: int64\n",
      "Ma     56\n",
      "Jr     49\n",
      "PhD    34\n",
      "So     29\n",
      "Sr     27\n",
      "Fr     13\n",
      "O       6\n",
      "Name: classification, dtype: int64\n",
      "0       108\n",
      "1-3      78\n",
      "4-7      24\n",
      "8-10      4\n",
      "Name: num_hackathons_attended, dtype: int64\n"
     ]
    },
    {
     "name": "stderr",
     "output_type": "stream",
     "text": [
      "c:\\users\\nikita\\appdata\\local\\programs\\python\\python38\\lib\\site-packages\\pandas\\core\\indexing.py:1745: SettingWithCopyWarning: \n",
      "A value is trying to be set on a copy of a slice from a DataFrame.\n",
      "Try using .loc[row_indexer,col_indexer] = value instead\n",
      "\n",
      "See the caveats in the documentation: https://pandas.pydata.org/pandas-docs/stable/user_guide/indexing.html#returning-a-view-versus-a-copy\n",
      "  isetter(ilocs[0], value)\n"
     ]
    },
    {
     "data": {
      "text/html": [
       "<div>\n",
       "<style scoped>\n",
       "    .dataframe tbody tr th:only-of-type {\n",
       "        vertical-align: middle;\n",
       "    }\n",
       "\n",
       "    .dataframe tbody tr th {\n",
       "        vertical-align: top;\n",
       "    }\n",
       "\n",
       "    .dataframe thead th {\n",
       "        text-align: right;\n",
       "    }\n",
       "</style>\n",
       "<table border=\"1\" class=\"dataframe\">\n",
       "  <thead>\n",
       "    <tr style=\"text-align: right;\">\n",
       "      <th></th>\n",
       "      <th>datascience_experience</th>\n",
       "      <th>age_bin</th>\n",
       "      <th>classification</th>\n",
       "      <th>num_hackathons_attended</th>\n",
       "    </tr>\n",
       "    <tr>\n",
       "      <th>userid</th>\n",
       "      <th></th>\n",
       "      <th></th>\n",
       "      <th></th>\n",
       "      <th></th>\n",
       "    </tr>\n",
       "  </thead>\n",
       "  <tbody>\n",
       "    <tr>\n",
       "      <th>002314e62544dcb65e08d3483c4ffa75</th>\n",
       "      <td>1</td>\n",
       "      <td>19.0</td>\n",
       "      <td>4</td>\n",
       "      <td>2.0</td>\n",
       "    </tr>\n",
       "    <tr>\n",
       "      <th>011c08999895a8a06f6e7f0e23b066b9</th>\n",
       "      <td>4</td>\n",
       "      <td>40.0</td>\n",
       "      <td>4</td>\n",
       "      <td>0.0</td>\n",
       "    </tr>\n",
       "    <tr>\n",
       "      <th>011c08999895a8a06f6e7f0e23b066b9</th>\n",
       "      <td>4</td>\n",
       "      <td>40.0</td>\n",
       "      <td>4</td>\n",
       "      <td>0.0</td>\n",
       "    </tr>\n",
       "    <tr>\n",
       "      <th>011c08999895a8a06f6e7f0e23b066b9</th>\n",
       "      <td>4</td>\n",
       "      <td>40.0</td>\n",
       "      <td>4</td>\n",
       "      <td>0.0</td>\n",
       "    </tr>\n",
       "    <tr>\n",
       "      <th>011c08999895a8a06f6e7f0e23b066b9</th>\n",
       "      <td>4</td>\n",
       "      <td>40.0</td>\n",
       "      <td>4</td>\n",
       "      <td>0.0</td>\n",
       "    </tr>\n",
       "  </tbody>\n",
       "</table>\n",
       "</div>"
      ],
      "text/plain": [
       "                                  datascience_experience  age_bin  \\\n",
       "userid                                                              \n",
       "002314e62544dcb65e08d3483c4ffa75                       1     19.0   \n",
       "011c08999895a8a06f6e7f0e23b066b9                       4     40.0   \n",
       "011c08999895a8a06f6e7f0e23b066b9                       4     40.0   \n",
       "011c08999895a8a06f6e7f0e23b066b9                       4     40.0   \n",
       "011c08999895a8a06f6e7f0e23b066b9                       4     40.0   \n",
       "\n",
       "                                  classification  num_hackathons_attended  \n",
       "userid                                                                     \n",
       "002314e62544dcb65e08d3483c4ffa75               4                      2.0  \n",
       "011c08999895a8a06f6e7f0e23b066b9               4                      0.0  \n",
       "011c08999895a8a06f6e7f0e23b066b9               4                      0.0  \n",
       "011c08999895a8a06f6e7f0e23b066b9               4                      0.0  \n",
       "011c08999895a8a06f6e7f0e23b066b9               4                      0.0  "
      ]
     },
     "execution_count": 250,
     "metadata": {},
     "output_type": "execute_result"
    }
   ],
   "source": [
    "# Processing data - converting categorical attributes into numerics for sklearn models\n",
    "display(features.head(5))\n",
    "print(features.loc[:, \"age_bin\"].value_counts())\n",
    "features.loc[:, \"age_bin\"] = features.loc[:, \"age_bin\"].map({\"(15, 18]\": 16.5, \"(18, 20]\": 19, \"(20, 22]\": 21, \"(22, 25]\": 23.5, \"(25, 30]\": 27.5, \"(30, 50]\": 40})\n",
    "print(features.loc[:, \"classification\"].value_counts())\n",
    "features.loc[:, \"classification\"] = features.loc[:, \"classification\"].map({\"O\": 1, \"Fr\": 2, \"So\": 3, \"Jr\" : 4, \"Sr\": 5, \"Ma\": 6, \"PhD\": 7})\n",
    "print(features.loc[:, \"num_hackathons_attended\"].value_counts())\n",
    "features.loc[:, \"num_hackathons_attended\"] = features.loc[:, \"num_hackathons_attended\"].map({\"0\": 0, \"1-3\": 2, \"4-7\": 5.5, \"8-10\": 9})\n",
    "features.head(5)\n",
    "\n",
    "# This returns a settingwithcopy warning... not sure why since the code effectively changes the dataframe to what I want. "
   ]
  },
  {
   "cell_type": "code",
   "execution_count": 251,
   "metadata": {
    "colab": {
     "base_uri": "https://localhost:8080/",
     "height": 35
    },
    "id": "3L4xBmjY9KXo",
    "outputId": "d2fc00ca-1c80-4203-d3a9-e391a093191c"
   },
   "outputs": [
    {
     "data": {
      "text/plain": [
       "DummyClassifier(strategy='most_frequent')"
      ]
     },
     "execution_count": 251,
     "metadata": {},
     "output_type": "execute_result"
    }
   ],
   "source": [
    "from sklearn.dummy import DummyClassifier\n",
    "clf = DummyClassifier(strategy='most_frequent')\n",
    "clf.fit(features, target)"
   ]
  },
  {
   "cell_type": "code",
   "execution_count": 252,
   "metadata": {
    "colab": {
     "base_uri": "https://localhost:8080/",
     "height": 35
    },
    "id": "0H9hEtI48f5o",
    "outputId": "c085a383-c335-435b-c1bf-0725a86a9b85"
   },
   "outputs": [
    {
     "data": {
      "text/plain": [
       "0.23"
      ]
     },
     "execution_count": 252,
     "metadata": {},
     "output_type": "execute_result"
    }
   ],
   "source": [
    "from sklearn.model_selection import cross_val_score\n",
    "cross_val_score(clf, features, target).mean().round(2)"
   ]
  },
  {
   "cell_type": "code",
   "execution_count": 253,
   "metadata": {
    "colab": {
     "base_uri": "https://localhost:8080/",
     "height": 35
    },
    "id": "WlLCKIy4HdCG",
    "outputId": "64f0c635-b82f-4797-f3a6-41187f3fb3c3"
   },
   "outputs": [],
   "source": [
    "from sklearn.linear_model import LogisticRegression as LR\n",
    "from sklearn.metrics import f1_score\n",
    "import sklearn.model_selection as mod_sel\n",
    "from varname import nameof\n",
    "import numpy as np\n",
    "\n",
    "# Perform test-train split for various validation methods\n",
    "X_train, X_test, y_train, y_test = train_test_split(features, target, test_size=0.2)\n",
    "\n",
    "def test_model(model):\n",
    "    repeat_k_fold = mod_sel.RepeatedKFold(n_splits=5, n_repeats=10)\n",
    "    modelFScores = []\n",
    "    model_accuracies = []\n",
    "    for train_index, test_index in repeat_k_fold.split(features):\n",
    "        X_train, X_test = features.iloc[train_index, :], features.iloc[test_index, :]\n",
    "        y_train, y_test = target.iloc[train_index], target.iloc[test_index]\n",
    "        model.fit(X_train, y_train)\n",
    "        model_predictions = model.predict(X_test)\n",
    "        model_accuracies.append(sum(model_predictions == y_test) / len(y_test))\n",
    "        modelFScores.append(f1_score(y_test, model_predictions, average=\"macro\"))\n",
    "    \n",
    "    print(\"Mean accuracy over 10 times repeated 5-fold CV: \")\n",
    "    print(np.mean(model_accuracies).round(3))\n",
    "    print(\"Mean F1 score for all classes using 10 times repeated 5-fold CV: \")\n",
    "    print(np.mean(modelFScores).round(3))"
   ]
  },
  {
   "cell_type": "code",
   "execution_count": 274,
   "metadata": {},
   "outputs": [
    {
     "name": "stdout",
     "output_type": "stream",
     "text": [
      "Mean accuracy over 10 times repeated 5-fold CV: \n",
      "0.201\n",
      "Mean F1 score for all classes using 10 times repeated 5-fold CV: \n",
      "0.042\n"
     ]
    }
   ],
   "source": [
    "# Dummy Classifier\n",
    "test_model(clf)"
   ]
  },
  {
   "cell_type": "markdown",
   "metadata": {},
   "source": [
    "This result is to be a harsh warning. This dummy classifier effectively does nothing, however it has a high accuracy compared to several other models. An F1 score of around .04 serves to be a baseline that we should do our best to avoid.  "
   ]
  },
  {
   "cell_type": "code",
   "execution_count": 254,
   "metadata": {},
   "outputs": [
    {
     "name": "stdout",
     "output_type": "stream",
     "text": [
      "\n",
      "Testing Logistic Regression\n",
      "Mean accuracy over 10 times repeated 5-fold CV: \n",
      "0.154\n",
      "Mean F1 score for all classes using 10 times repeated 5-fold CV: \n",
      "0.068\n"
     ]
    }
   ],
   "source": [
    "# Logistic Regression\n",
    "LRmodel = LR(verbose=0, max_iter=1000)\n",
    "test_model(LRmodel)"
   ]
  },
  {
   "cell_type": "code",
   "execution_count": 255,
   "metadata": {},
   "outputs": [
    {
     "name": "stdout",
     "output_type": "stream",
     "text": [
      "\n",
      "Testing Logistic Regression with Balanced Class Weights\n",
      "Mean accuracy over 10 times repeated 5-fold CV: \n",
      "0.113\n",
      "Mean F1 score for all classes using 10 times repeated 5-fold CV: \n",
      "0.086\n"
     ]
    }
   ],
   "source": [
    "# Logistic Regression with balanced class weights\n",
    "LRweighted_model = LR(verbose=0, max_iter=1000, class_weight=\"balanced\")\n",
    "test_model(LRweighted_model)"
   ]
  },
  {
   "cell_type": "code",
   "execution_count": 256,
   "metadata": {},
   "outputs": [
    {
     "name": "stdout",
     "output_type": "stream",
     "text": [
      "\n",
      "Testing Logistic Regression with L2 regularization and balanced class weights\n",
      "Mean accuracy over 10 times repeated 5-fold CV: \n",
      "0.128\n",
      "Mean F1 score for all classes using 10 times repeated 5-fold CV: \n",
      "0.089\n"
     ]
    }
   ],
   "source": [
    "# Logistic Regression with balanced class weights and L2 regularization\n",
    "# C value corresponds to 1/2*alpha, where alpha is the coefficient of the regularization term\n",
    "LRweighted_l2_model = LR(penalty='l2', verbose=0, max_iter=1000, class_weight=\"balanced\", C=.05)\n",
    "test_model(LRweighted_l2_model)"
   ]
  },
  {
   "cell_type": "markdown",
   "metadata": {},
   "source": [
    "The non-weighted logistic regression tends to have higher overall accuracy, however the weighted logistic regression tends to have higher f1 score. Interestingly, L2 regularization seems to singlehandedly increase both accuracy and F1 score! However, L1 regularization seems to be, at best, only as good as L2. "
   ]
  },
  {
   "cell_type": "code",
   "execution_count": 270,
   "metadata": {},
   "outputs": [
    {
     "name": "stdout",
     "output_type": "stream",
     "text": [
      "\n",
      "Testing Gaussian Naive Bayes classifier\n",
      "Mean accuracy over 10 times repeated 5-fold CV: \n",
      "0.142\n",
      "Mean F1 score for all classes using 10 times repeated 5-fold CV: \n",
      "0.078\n"
     ]
    }
   ],
   "source": [
    "# Now, we try Naive Bayes model.\n",
    "from sklearn.naive_bayes import GaussianNB\n",
    "gnb_model = GaussianNB()\n",
    "test_model(gnb_model)"
   ]
  },
  {
   "cell_type": "code",
   "execution_count": 258,
   "metadata": {
    "cellView": "form",
    "id": "rvH2hktmC9GQ"
   },
   "outputs": [],
   "source": [
    "#@title MAP@K\n",
    "#@markdown MAP@K is a metric you should report for your recommendation engine!\n",
    "\n",
    "import numpy as np\n",
    "\n",
    "def apk(actual, predicted, k):\n",
    "    \"\"\"\n",
    "    Computes the average precision at k.\n",
    "    This function computes the average prescision at k between two lists of\n",
    "    items.\n",
    "    Parameters\n",
    "    ----------\n",
    "    actual : list\n",
    "             A list of elements that are to be predicted (order doesn't matter)\n",
    "    predicted : list\n",
    "                A list of predicted elements (order does matter)\n",
    "    k : int, optional\n",
    "        The maximum number of predicted elements\n",
    "    Returns\n",
    "    -------\n",
    "    score : double\n",
    "            The average precision at k over the input lists\n",
    "    \"\"\"\n",
    "    if len(predicted)>k:\n",
    "        predicted = predicted[:k]\n",
    "\n",
    "    score = 0.0\n",
    "    num_hits = 0.0\n",
    "\n",
    "    for i,p in enumerate(predicted):\n",
    "        if p in actual and p not in predicted[:i]:\n",
    "            num_hits += 1.0\n",
    "            score += num_hits / (i+1.0)\n",
    "\n",
    "    if not actual:\n",
    "        return 0.0\n",
    "\n",
    "    return score / min(len(actual), k)\n",
    "\n",
    "def mapk(actual, predicted, k=1):\n",
    "    \"\"\"\n",
    "    Computes the mean average precision at k.\n",
    "    This function computes the mean average prescision at k between two lists\n",
    "    of lists of items.\n",
    "    Parameters\n",
    "    ----------\n",
    "    actual : list\n",
    "             A list of lists of elements that are to be predicted \n",
    "             (order doesn't matter in the lists)\n",
    "    predicted : list\n",
    "                A list of lists of predicted elements\n",
    "                (order matters in the lists)\n",
    "    k : int, optional\n",
    "        The maximum number of predicted elements\n",
    "    Returns\n",
    "    -------\n",
    "    score : double\n",
    "            The mean average precision at k over the input lists\n",
    "    \"\"\"\n",
    "    return np.mean([apk(a,p,k) for a,p in zip(actual, predicted)])\n"
   ]
  },
  {
   "cell_type": "code",
   "execution_count": 259,
   "metadata": {
    "id": "tKuPOIKk_GiF"
   },
   "outputs": [],
   "source": [
    "# get the pairings of (user, list of ws attended)\n",
    "actual = bootcamp.groupby('userid').workshop.apply(list)\n",
    "# get the corresponding users from the applications df\n",
    "reindexed = apps.loc[actual.index]"
   ]
  },
  {
   "cell_type": "code",
   "execution_count": 260,
   "metadata": {
    "id": "TYDS41NOHeCV"
   },
   "outputs": [],
   "source": [
    "def get_ordered_predictions(clf, features):\n",
    "  probs = clf.predict_proba(features)\n",
    "  predicted_idx = np.argsort(probs, axis=1)[:,::-1]\n",
    "  return clf.classes_[predicted_idx]\n",
    "\n",
    "clf.fit(features, target)\n",
    "preds = get_ordered_predictions(clf, reindexed[feature_names])"
   ]
  },
  {
   "cell_type": "code",
   "execution_count": 261,
   "metadata": {
    "colab": {
     "base_uri": "https://localhost:8080/",
     "height": 34
    },
    "id": "D7Jsb1j9OmPU",
    "outputId": "a6e4a001-cd12-448a-8b6a-68aeb7e1ebe3"
   },
   "outputs": [
    {
     "data": {
      "text/plain": [
       "0.5833333333333334"
      ]
     },
     "execution_count": 261,
     "metadata": {},
     "output_type": "execute_result"
    }
   ],
   "source": [
    "mapk(actual, preds, k=1)"
   ]
  },
  {
   "cell_type": "markdown",
   "metadata": {
    "id": "xiFdrKFgfAK-"
   },
   "source": [
    "# Clustering for Team Building?\n",
    "- Due to COVID, finding people to team with amoungst the 1200 other particants can be daunting. Could you recommend teamates considering such things as time zone? Think Facebook/Linkedin friend recommender..."
   ]
  },
  {
   "cell_type": "markdown",
   "metadata": {
    "id": "Dl8jREmPa994"
   },
   "source": [
    "# Natural Language Processing for Finding Workshops?\n",
    "\n",
    "- Finding the right workshop to attend can be tricky and time is valuable during a datathon. Build a search engine for TD workshops that allows particpants to use natural langauge queries to find workshops, e.g. \"how to import a dataset\" -> Data Wrangling\n",
    "- Idea: What if you trained word embeddings on towards data science [articles](https://www.kaggle.com/dorianlazar/medium-articles-dataset)?"
   ]
  },
  {
   "cell_type": "code",
   "execution_count": 262,
   "metadata": {
    "id": "e4oTYfj7aPHL"
   },
   "outputs": [],
   "source": [
    "queries = pd.read_csv('https://drive.google.com/uc?id=1ff4xFh4fl0-SvpYNeYQoNvDbzdiZfn-t')\n",
    "workshops = pd.read_csv('https://drive.google.com/uc?id=10MngpIZoAGgwAk_sxoORj7WPYs74nz5Y')"
   ]
  },
  {
   "cell_type": "code",
   "execution_count": 263,
   "metadata": {
    "colab": {
     "base_uri": "https://localhost:8080/",
     "height": 111
    },
    "id": "vmEKLyoI--Ye",
    "outputId": "454a23d3-cb60-43ed-98b6-e45cecdd3656"
   },
   "outputs": [
    {
     "data": {
      "text/html": [
       "<div>\n",
       "<style scoped>\n",
       "    .dataframe tbody tr th:only-of-type {\n",
       "        vertical-align: middle;\n",
       "    }\n",
       "\n",
       "    .dataframe tbody tr th {\n",
       "        vertical-align: top;\n",
       "    }\n",
       "\n",
       "    .dataframe thead th {\n",
       "        text-align: right;\n",
       "    }\n",
       "</style>\n",
       "<table border=\"1\" class=\"dataframe\">\n",
       "  <thead>\n",
       "    <tr style=\"text-align: right;\">\n",
       "      <th></th>\n",
       "      <th>query</th>\n",
       "      <th>workshop</th>\n",
       "    </tr>\n",
       "  </thead>\n",
       "  <tbody>\n",
       "    <tr>\n",
       "      <th>0</th>\n",
       "      <td>Using machine learning</td>\n",
       "      <td>Machine Learning Part 2/2: Applied</td>\n",
       "    </tr>\n",
       "    <tr>\n",
       "      <th>1</th>\n",
       "      <td>underlying math</td>\n",
       "      <td>Machine Learning Part 1/2: Theory</td>\n",
       "    </tr>\n",
       "  </tbody>\n",
       "</table>\n",
       "</div>"
      ],
      "text/plain": [
       "                    query                            workshop\n",
       "0  Using machine learning  Machine Learning Part 2/2: Applied\n",
       "1         underlying math   Machine Learning Part 1/2: Theory"
      ]
     },
     "execution_count": 263,
     "metadata": {},
     "output_type": "execute_result"
    }
   ],
   "source": [
    "queries.head(2)"
   ]
  },
  {
   "cell_type": "code",
   "execution_count": 264,
   "metadata": {
    "colab": {
     "base_uri": "https://localhost:8080/",
     "height": 111
    },
    "id": "fk5RZ7Wi-_1F",
    "outputId": "05817d73-6528-4f4c-f8ed-0fe0b7a87ac2"
   },
   "outputs": [
    {
     "data": {
      "text/html": [
       "<div>\n",
       "<style scoped>\n",
       "    .dataframe tbody tr th:only-of-type {\n",
       "        vertical-align: middle;\n",
       "    }\n",
       "\n",
       "    .dataframe tbody tr th {\n",
       "        vertical-align: top;\n",
       "    }\n",
       "\n",
       "    .dataframe thead th {\n",
       "        text-align: right;\n",
       "    }\n",
       "</style>\n",
       "<table border=\"1\" class=\"dataframe\">\n",
       "  <thead>\n",
       "    <tr style=\"text-align: right;\">\n",
       "      <th></th>\n",
       "      <th>event</th>\n",
       "      <th>workshop</th>\n",
       "      <th>tags</th>\n",
       "      <th>description</th>\n",
       "      <th>track</th>\n",
       "      <th>difficulty</th>\n",
       "    </tr>\n",
       "  </thead>\n",
       "  <tbody>\n",
       "    <tr>\n",
       "      <th>0</th>\n",
       "      <td>TD 2020</td>\n",
       "      <td>Introduction to Python</td>\n",
       "      <td>for, loops, functions, while, logic, variables...</td>\n",
       "      <td>Are you new to programming? Or do you want a r...</td>\n",
       "      <td>CS</td>\n",
       "      <td>0</td>\n",
       "    </tr>\n",
       "    <tr>\n",
       "      <th>1</th>\n",
       "      <td>TD 2020</td>\n",
       "      <td>Storytelling with Data</td>\n",
       "      <td>presenting, impact, business, data science</td>\n",
       "      <td>In this talk, we will describe how we use data...</td>\n",
       "      <td>Industry</td>\n",
       "      <td>0</td>\n",
       "    </tr>\n",
       "  </tbody>\n",
       "</table>\n",
       "</div>"
      ],
      "text/plain": [
       "     event                workshop  \\\n",
       "0  TD 2020  Introduction to Python   \n",
       "1  TD 2020  Storytelling with Data   \n",
       "\n",
       "                                                tags  \\\n",
       "0  for, loops, functions, while, logic, variables...   \n",
       "1         presenting, impact, business, data science   \n",
       "\n",
       "                                         description     track  difficulty  \n",
       "0  Are you new to programming? Or do you want a r...        CS           0  \n",
       "1  In this talk, we will describe how we use data...  Industry           0  "
      ]
     },
     "execution_count": 264,
     "metadata": {},
     "output_type": "execute_result"
    }
   ],
   "source": [
    "workshops.head(2)"
   ]
  },
  {
   "cell_type": "code",
   "execution_count": 265,
   "metadata": {
    "id": "NhVb5KRNl-F8"
   },
   "outputs": [],
   "source": [
    "workshops.tags = workshops.tags.apply(lambda xs: xs.split(', '))"
   ]
  },
  {
   "cell_type": "code",
   "execution_count": 266,
   "metadata": {
    "colab": {
     "base_uri": "https://localhost:8080/",
     "height": 34
    },
    "id": "7A3ep7H8kPcK",
    "outputId": "5714c688-82ab-40b5-dc86-72209efc6a72"
   },
   "outputs": [
    {
     "data": {
      "text/plain": [
       "171350079"
      ]
     },
     "execution_count": 266,
     "metadata": {},
     "output_type": "execute_result"
    }
   ],
   "source": [
    "# load the Stanford GloVe model\n",
    "import requests\n",
    "url = 'https://td2020-static.s3.amazonaws.com/glove.6B.50d.txt'\n",
    "r = requests.get(url)\n",
    "open('glove.6B.50d.txt', 'wb').write(r.content) "
   ]
  },
  {
   "cell_type": "code",
   "execution_count": 267,
   "metadata": {
    "colab": {
     "base_uri": "https://localhost:8080/",
     "height": 88
    },
    "id": "i5V-U-eZiIrP",
    "outputId": "68da29f3-80e6-4a91-b393-d2c1ad473e48"
   },
   "outputs": [
    {
     "ename": "ModuleNotFoundError",
     "evalue": "No module named 'gensim'",
     "output_type": "error",
     "traceback": [
      "\u001b[1;31m---------------------------------------------------------------------------\u001b[0m",
      "\u001b[1;31mModuleNotFoundError\u001b[0m                       Traceback (most recent call last)",
      "\u001b[1;32m<ipython-input-267-5dbd911ff3cf>\u001b[0m in \u001b[0;36m<module>\u001b[1;34m\u001b[0m\n\u001b[1;32m----> 1\u001b[1;33m \u001b[1;32mfrom\u001b[0m \u001b[0mgensim\u001b[0m\u001b[1;33m.\u001b[0m\u001b[0mscripts\u001b[0m\u001b[1;33m.\u001b[0m\u001b[0mglove2word2vec\u001b[0m \u001b[1;32mimport\u001b[0m \u001b[0mglove2word2vec\u001b[0m\u001b[1;33m\u001b[0m\u001b[1;33m\u001b[0m\u001b[0m\n\u001b[0m\u001b[0;32m      2\u001b[0m \u001b[0mglove_input_file\u001b[0m \u001b[1;33m=\u001b[0m \u001b[1;34m'glove.6B.50d.txt'\u001b[0m\u001b[1;33m\u001b[0m\u001b[1;33m\u001b[0m\u001b[0m\n\u001b[0;32m      3\u001b[0m \u001b[0mword2vec_output_file\u001b[0m \u001b[1;33m=\u001b[0m \u001b[1;34m'glove.6B.50d.txt.word2vec'\u001b[0m\u001b[1;33m\u001b[0m\u001b[1;33m\u001b[0m\u001b[0m\n\u001b[0;32m      4\u001b[0m \u001b[0mglove2word2vec\u001b[0m\u001b[1;33m(\u001b[0m\u001b[0mglove_input_file\u001b[0m\u001b[1;33m,\u001b[0m \u001b[0mword2vec_output_file\u001b[0m\u001b[1;33m)\u001b[0m\u001b[1;33m\u001b[0m\u001b[1;33m\u001b[0m\u001b[0m\n",
      "\u001b[1;31mModuleNotFoundError\u001b[0m: No module named 'gensim'"
     ]
    }
   ],
   "source": [
    "from gensim.scripts.glove2word2vec import glove2word2vec\n",
    "glove_input_file = 'glove.6B.50d.txt'\n",
    "word2vec_output_file = 'glove.6B.50d.txt.word2vec'\n",
    "glove2word2vec(glove_input_file, word2vec_output_file)"
   ]
  },
  {
   "cell_type": "code",
   "execution_count": null,
   "metadata": {
    "colab": {
     "base_uri": "https://localhost:8080/",
     "height": 71
    },
    "id": "Q92eFu2n9-37",
    "outputId": "7695dcef-e080-41fe-a1c1-8b03747d6da8"
   },
   "outputs": [],
   "source": [
    "from gensim.models import KeyedVectors\n",
    "model = KeyedVectors.load_word2vec_format(word2vec_output_file, binary=False)"
   ]
  },
  {
   "cell_type": "code",
   "execution_count": null,
   "metadata": {
    "colab": {
     "base_uri": "https://localhost:8080/",
     "height": 374
    },
    "id": "jB2_srZdnfsO",
    "outputId": "f6d7da8b-5340-4f2e-cac0-ef899367b01e"
   },
   "outputs": [],
   "source": [
    "def distance(query, tag_set):\n",
    "  if len(tag_set) == 0:\n",
    "    return np.inf\n",
    "  lquery = query.lower().split()\n",
    "  prospect = ' '.join(tag_set).lower().split()\n",
    "  return model.wmdistance(lquery, prospect)\n",
    "\n",
    "def get_best_match_workshop(query):\n",
    "  return np.argmin([distance(query, ws) for ws in workshops.tags.values])\n",
    "\n",
    "print('{0:<70}{1:<40}{2:<40}'.format('Query', 'Predicted Workshop', 'Actual Workshop'))\n",
    "for i in range(20):\n",
    "  query = queries.iloc[i].query\n",
    "  predict_idx = get_best_match_workshop(query)\n",
    "  predicted = workshops.iloc[predict_idx].workshop\n",
    "  actual = queries.iloc[i].workshop\n",
    "  print('{0:<70}{1:<40}{2:<40}'.format(query, predicted, actual))"
   ]
  },
  {
   "cell_type": "markdown",
   "metadata": {
    "id": "X3LBGWrq7jVG"
   },
   "source": [
    "# Host On Web App?\n",
    "Show us all you got by building a dashboard webapp in Python at\n",
    "[streamlit.io](https://www.streamlit.io/)!"
   ]
  }
 ],
 "metadata": {
  "colab": {
   "collapsed_sections": [],
   "name": "CometCoderTDForYou.ipynb",
   "provenance": []
  },
  "kernelspec": {
   "display_name": "Python 3",
   "language": "python",
   "name": "python3"
  },
  "language_info": {
   "codemirror_mode": {
    "name": "ipython",
    "version": 3
   },
   "file_extension": ".py",
   "mimetype": "text/x-python",
   "name": "python",
   "nbconvert_exporter": "python",
   "pygments_lexer": "ipython3",
   "version": "3.8.1"
  }
 },
 "nbformat": 4,
 "nbformat_minor": 4
}
